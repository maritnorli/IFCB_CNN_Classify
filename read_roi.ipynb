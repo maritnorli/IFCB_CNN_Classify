{
 "cells": [
  {
   "cell_type": "code",
   "execution_count": 16,
   "metadata": {},
   "outputs": [],
   "source": [
    "import os\n",
    "import numpy as np\n",
    "from PIL import Image"
   ]
  },
  {
   "cell_type": "code",
   "execution_count": 17,
   "metadata": {},
   "outputs": [],
   "source": [
    "def export_png_from_ROIlist(ROIfile_withpath, outputpath, ROInumbers=None):\n",
    "    # Get the base directory, filename, and extension\n",
    "    basedir, filename_ext = os.path.split(ROIfile_withpath)\n",
    "    filename, ext = os.path.splitext(filename_ext)\n",
    "    \n",
    "    # Create the output path if it doesn't exist\n",
    "    if not os.path.exists(outputpath):\n",
    "        os.makedirs(outputpath)\n",
    "    \n",
    "    # Load ADC data with correct delimiter\n",
    "    adcfile = os.path.join(basedir, filename + '.adc')\n",
    "    adcdata = np.loadtxt(adcfile, delimiter=',')\n",
    "    \n",
    "    # Determine column indices based on filename format\n",
    "    if filename.startswith('I'):\n",
    "        x = adcdata[:, 11]\n",
    "        y = adcdata[:, 12]\n",
    "        startbyte = adcdata[:, 13]\n",
    "    else:\n",
    "        x = adcdata[:, 15]\n",
    "        y = adcdata[:, 16]\n",
    "        startbyte = adcdata[:, 17]\n",
    "    \n",
    "    # If no ROInumbers are passed, export all\n",
    "    if ROInumbers is None:\n",
    "        ROInumbers = np.where(x > 0)[0] + 1  # MATLAB indices start from 1, Python from 0\n",
    "    \n",
    "    roi_filepath = ROIfile_withpath + '.roi'\n",
    "    with open(roi_filepath, 'rb') as fid:\n",
    "        for num in ROInumbers:\n",
    "            num = int(num) - 1  # Adjusting MATLAB 1-based index to Python 0-based index\n",
    "            fid.seek(int(startbyte[num]), os.SEEK_SET)\n",
    "            img_data = np.fromfile(fid, dtype=np.uint8, count=int(x[num] * y[num]))\n",
    "            if img_data.size != int(x[num] * y[num]):\n",
    "                print(f\"Warning: ROI {num + 1} has unexpected size. Skipping.\")\n",
    "                continue\n",
    "            img = np.reshape(img_data, (int(y[num]), int(x[num])))  # Note the order of x and y for correct orientation\n",
    "            pngname = f\"{filename}_{num + 1:05d}.png\"\n",
    "            img = Image.fromarray(img)\n",
    "            img.save(os.path.join(outputpath, pngname))\n",
    "\n",
    "def process_all_roi_files(input_dir, output_dir):\n",
    "    for root, dirs, files in os.walk(input_dir):\n",
    "        for file in files:\n",
    "            if file.endswith('.roi'):\n",
    "                roi_file_path = os.path.join(root, file)\n",
    "                filename = os.path.splitext(file)[0]\n",
    "                output_path = os.path.join(output_dir, filename)  # Create a subdirectory for each .roi file\n",
    "                export_png_from_ROIlist(roi_file_path[:-4], output_path)  # Remove the '.roi' extension\n",
    "\n"
   ]
  },
  {
   "cell_type": "code",
   "execution_count": 18,
   "metadata": {},
   "outputs": [],
   "source": [
    "# Example usage\n",
    "input_directory = 'C:/Data/Python/IFCB/data/2024/raw'\n",
    "output_directory = 'C:/Data/Python/IFCB/data/2024/images'\n",
    "process_all_roi_files(input_directory, output_directory)"
   ]
  }
 ],
 "metadata": {
  "kernelspec": {
   "display_name": "IFCB_CNN",
   "language": "python",
   "name": "python3"
  },
  "language_info": {
   "codemirror_mode": {
    "name": "ipython",
    "version": 3
   },
   "file_extension": ".py",
   "mimetype": "text/x-python",
   "name": "python",
   "nbconvert_exporter": "python",
   "pygments_lexer": "ipython3",
   "version": "3.10.14"
  }
 },
 "nbformat": 4,
 "nbformat_minor": 2
}
