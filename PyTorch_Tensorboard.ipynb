{
  "nbformat": 4,
  "nbformat_minor": 0,
  "metadata": {
    "colab": {
      "provenance": [],
      "gpuType": "T4",
      "authorship_tag": "ABX9TyMqL51lfVXQXQQVwuuOAXVu",
      "include_colab_link": true
    },
    "kernelspec": {
      "name": "python3",
      "display_name": "Python 3"
    },
    "language_info": {
      "name": "python"
    },
    "accelerator": "GPU"
  },
  "cells": [
    {
      "cell_type": "markdown",
      "metadata": {
        "id": "view-in-github",
        "colab_type": "text"
      },
      "source": [
        "<a href=\"https://colab.research.google.com/github/maritnorli/IFCB_CNN_Classify/blob/main/PyTorch_Tensorboard.ipynb\" target=\"_parent\"><img src=\"https://colab.research.google.com/assets/colab-badge.svg\" alt=\"Open In Colab\"/></a>"
      ]
    },
    {
      "cell_type": "code",
      "source": [
        "# Have the required version but here is code that will install the latest version\n",
        "try:\n",
        "  import torch\n",
        "  import torchvision\n",
        "  assert int(torch.__version__.split(\".\")[1]) >= 12, \"torch version should be 1.12+\"\n",
        "  assert int(torchvision.__version__.split(\".\")[1]) >= 13, \"torchvision version should be 1.13+\"\n",
        "  print(f\"torch version: {torch.__version__}\")\n",
        "  print(f\"torchvision version: {torchvision.__version__}\")\n",
        "except:\n",
        "  print(f\"[INFO] torch/torchvision versions not as required, installing nightly versions.\")\n",
        "  !pip3 install -U --pre torch torchvision torchaudio --extra-index-url https://download.pytorch.org/whl/nightly/cull3\n",
        "  import torch\n",
        "  import torchvision\n",
        "  print(f\"torch version: {torch.__version__}\")\n",
        "  print(f\"torchvision version: {torchvision.__version__}\")\n"
      ],
      "metadata": {
        "colab": {
          "base_uri": "https://localhost:8080/"
        },
        "id": "44DW2VWyOack",
        "outputId": "7a47b958-a01c-416c-84be-5a62368d979c"
      },
      "execution_count": 1,
      "outputs": [
        {
          "output_type": "stream",
          "name": "stdout",
          "text": [
            "[INFO] torch/torchvision versions not as required, installing nightly versions.\n",
            "Looking in indexes: https://pypi.org/simple, https://download.pytorch.org/whl/nightly/cull3\n",
            "Requirement already satisfied: torch in /usr/local/lib/python3.10/dist-packages (2.2.2)\n",
            "Requirement already satisfied: torchvision in /usr/local/lib/python3.10/dist-packages (0.17.2)\n",
            "Requirement already satisfied: torchaudio in /usr/local/lib/python3.10/dist-packages (2.2.2)\n",
            "Requirement already satisfied: filelock in /usr/local/lib/python3.10/dist-packages (from torch) (3.13.3)\n",
            "Requirement already satisfied: typing-extensions>=4.8.0 in /usr/local/lib/python3.10/dist-packages (from torch) (4.10.0)\n",
            "Requirement already satisfied: sympy in /usr/local/lib/python3.10/dist-packages (from torch) (1.12)\n",
            "Requirement already satisfied: networkx in /usr/local/lib/python3.10/dist-packages (from torch) (3.2.1)\n",
            "Requirement already satisfied: jinja2 in /usr/local/lib/python3.10/dist-packages (from torch) (3.1.3)\n",
            "Requirement already satisfied: fsspec in /usr/local/lib/python3.10/dist-packages (from torch) (2023.6.0)\n",
            "Requirement already satisfied: nvidia-cuda-nvrtc-cu12==12.1.105 in /usr/local/lib/python3.10/dist-packages (from torch) (12.1.105)\n",
            "Requirement already satisfied: nvidia-cuda-runtime-cu12==12.1.105 in /usr/local/lib/python3.10/dist-packages (from torch) (12.1.105)\n",
            "Requirement already satisfied: nvidia-cuda-cupti-cu12==12.1.105 in /usr/local/lib/python3.10/dist-packages (from torch) (12.1.105)\n",
            "Requirement already satisfied: nvidia-cudnn-cu12==8.9.2.26 in /usr/local/lib/python3.10/dist-packages (from torch) (8.9.2.26)\n",
            "Requirement already satisfied: nvidia-cublas-cu12==12.1.3.1 in /usr/local/lib/python3.10/dist-packages (from torch) (12.1.3.1)\n",
            "Requirement already satisfied: nvidia-cufft-cu12==11.0.2.54 in /usr/local/lib/python3.10/dist-packages (from torch) (11.0.2.54)\n",
            "Requirement already satisfied: nvidia-curand-cu12==10.3.2.106 in /usr/local/lib/python3.10/dist-packages (from torch) (10.3.2.106)\n",
            "Requirement already satisfied: nvidia-cusolver-cu12==11.4.5.107 in /usr/local/lib/python3.10/dist-packages (from torch) (11.4.5.107)\n",
            "Requirement already satisfied: nvidia-cusparse-cu12==12.1.0.106 in /usr/local/lib/python3.10/dist-packages (from torch) (12.1.0.106)\n",
            "Requirement already satisfied: nvidia-nccl-cu12==2.19.3 in /usr/local/lib/python3.10/dist-packages (from torch) (2.19.3)\n",
            "Requirement already satisfied: nvidia-nvtx-cu12==12.1.105 in /usr/local/lib/python3.10/dist-packages (from torch) (12.1.105)\n",
            "Requirement already satisfied: triton==2.2.0 in /usr/local/lib/python3.10/dist-packages (from torch) (2.2.0)\n",
            "Requirement already satisfied: nvidia-nvjitlink-cu12 in /usr/local/lib/python3.10/dist-packages (from nvidia-cusolver-cu12==11.4.5.107->torch) (12.4.127)\n",
            "Requirement already satisfied: numpy in /usr/local/lib/python3.10/dist-packages (from torchvision) (1.25.2)\n",
            "Requirement already satisfied: pillow!=8.3.*,>=5.3.0 in /usr/local/lib/python3.10/dist-packages (from torchvision) (9.4.0)\n",
            "Requirement already satisfied: MarkupSafe>=2.0 in /usr/local/lib/python3.10/dist-packages (from jinja2->torch) (2.1.5)\n",
            "Requirement already satisfied: mpmath>=0.19 in /usr/local/lib/python3.10/dist-packages (from sympy->torch) (1.3.0)\n",
            "torch version: 2.2.2+cu121\n",
            "torchvision version: 0.17.2+cu121\n"
          ]
        }
      ]
    },
    {
      "cell_type": "code",
      "execution_count": 2,
      "metadata": {
        "id": "Tw4t6J6GL5mp",
        "outputId": "0967ddc6-03a4-437d-c857-b493caaa5750",
        "colab": {
          "base_uri": "https://localhost:8080/"
        }
      },
      "outputs": [
        {
          "output_type": "stream",
          "name": "stdout",
          "text": [
            "Mounted at /content/drive\n"
          ]
        }
      ],
      "source": [
        "from google.colab import drive\n",
        "drive.mount('/content/drive')"
      ]
    },
    {
      "cell_type": "code",
      "source": [
        "## Import the colab libraries and set up paths\n",
        "from google.colab import drive\n",
        "import os\n",
        "\n",
        "## copy files from drive to colab\n",
        "import shutil\n",
        "# Specify the path to your \"going_modular\" folder in Google Drive\n",
        "drive_path = \"/content/drive/MyDrive/IFCB/going_modular\"\n",
        "\n",
        "\n",
        "# List files in the \"going_modular\" folder\n",
        "files = os.listdir(drive_path)\n",
        "\n",
        "# Copy each file individually to the /content directory\n",
        "for file in files:\n",
        "    src = os.path.join(drive_path, file)\n",
        "    dst = os.path.join(\"/content\", file)\n",
        "    try:\n",
        "        shutil.copy(src, dst)\n",
        "    except Exception as e:\n",
        "        print(f\"Failed to copy {file}: {e}\")\n",
        "\n",
        "# wait a minute or so before it pops up"
      ],
      "metadata": {
        "id": "bPhZIPcbMpsE"
      },
      "execution_count": 3,
      "outputs": []
    },
    {
      "cell_type": "code",
      "source": [
        "# Setup device agnostic code\n",
        "device = \"cuda\" if torch.cuda.is_available() else \"cpu\"\n",
        "device"
      ],
      "metadata": {
        "id": "GT99SInt7UNV",
        "outputId": "23a60a38-c33d-48e0-acc6-a377d20d5b47",
        "colab": {
          "base_uri": "https://localhost:8080/",
          "height": 36
        }
      },
      "execution_count": 4,
      "outputs": [
        {
          "output_type": "execute_result",
          "data": {
            "text/plain": [
              "'cuda'"
            ],
            "application/vnd.google.colaboratory.intrinsic+json": {
              "type": "string"
            }
          },
          "metadata": {},
          "execution_count": 4
        }
      ]
    },
    {
      "cell_type": "code",
      "source": [
        "# Continue with regular imports\n",
        "import matplotlib.pyplot as plt\n",
        "\n",
        "from torch import nn\n",
        "from torchvision import transforms\n",
        "\n",
        "# Try to get torchinfo, install it if it doesn't work\n",
        "try:\n",
        "    from torchinfo import summary\n",
        "except:\n",
        "    print(\"[INFO] Couldn't find torchinfo... installing it.\")\n",
        "    !pip install -q torchinfo\n",
        "    from torchinfo import summary\n",
        "\n",
        "# Now try importing modules directly from the copied drive files\n",
        "try:\n",
        "    import data_setup\n",
        "    import engine\n",
        "\n",
        "except ModuleNotFoundError as e:\n",
        "    print(f\"Failed to import modules: {e}\")"
      ],
      "metadata": {
        "id": "kgDDs_bLM2mF",
        "outputId": "238d9195-62c7-4ac9-bd10-38e8db36ec41",
        "colab": {
          "base_uri": "https://localhost:8080/"
        }
      },
      "execution_count": 6,
      "outputs": [
        {
          "output_type": "stream",
          "name": "stdout",
          "text": [
            "[INFO] Couldn't find torchinfo... installing it.\n"
          ]
        }
      ]
    },
    {
      "cell_type": "code",
      "source": [
        "import torch\n",
        "import torchvision\n",
        "print(torch.__version__)\n",
        "print(torchvision.__version__)\n"
      ],
      "metadata": {
        "id": "-3rk8SKf9Rws",
        "outputId": "7ecb27cc-4b6d-47ea-b2d7-5346b2516dff",
        "colab": {
          "base_uri": "https://localhost:8080/"
        }
      },
      "execution_count": 8,
      "outputs": [
        {
          "output_type": "stream",
          "name": "stdout",
          "text": [
            "2.2.2+cu121\n",
            "0.17.2+cu121\n"
          ]
        }
      ]
    },
    {
      "cell_type": "code",
      "source": [
        "# Set seeds\n",
        "def set_seeds(seed: int=42):\n",
        "    \"\"\"Sets random sets for torch operations.\n",
        "\n",
        "    Args:\n",
        "        seed (int, optional): Random seed to set. Defaults to 42.\n",
        "    \"\"\"\n",
        "    # Set the seed for general torch operations\n",
        "    torch.manual_seed(seed)\n",
        "    # Set the seed for CUDA torch operations (ones that happen on the GPU)\n",
        "    torch.cuda.manual_seed(seed)"
      ],
      "metadata": {
        "id": "awg-SlUi9rKm"
      },
      "execution_count": 9,
      "outputs": []
    },
    {
      "cell_type": "code",
      "source": [
        "set_seeds()"
      ],
      "metadata": {
        "id": "yPiQJz2Q_0hC"
      },
      "execution_count": 10,
      "outputs": []
    },
    {
      "cell_type": "code",
      "source": [
        "import os\n",
        "#import zipfile will likely be usefull later\n",
        "from pathlib import Path\n",
        "\n",
        "# Set data paths\n",
        "data_path = Path(\"/content/drive/MyDrive/IFCB/data/\")\n",
        "image_path = Path(\"/content/drive/MyDrive/IFCB/data/IFCB_test_train\")\n",
        "\n",
        "# Setup Dirs\n",
        "train_dir = image_path / \"Train\"\n",
        "test_dir = image_path / \"Test\"\n",
        "\n",
        "# Setup ImageNet normalization levels\n",
        "# See here: https://pytorch.org/vision/0.12/models.html\n",
        "normalize = transforms.Normalize(mean=[0.485, 0.456, 0.406],\n",
        "                                 std=[0.229, 0.224, 0.225])\n",
        "\n",
        "# Create transform pipeline manually\n",
        "from torchvision import transforms\n",
        "manual_transforms = transforms.Compose([\n",
        "                                        transforms.Resize((224, 224)),\n",
        "                                        transforms.Grayscale(num_output_channels=3),\n",
        "                                        transforms.ToTensor(),\n",
        "                                        normalize\n",
        "])\n",
        "print(f\"Manually created transforms: {manual_transforms}\")\n",
        "\n",
        "# Create DataLoaders\n",
        "\n",
        "train_dataloader, test_dataloader, class_names = data_setup.create_dataloaders(train_dir=train_dir,\n",
        "                                                                               test_dir=test_dir,\n",
        "                                                                               transform= manual_transforms, # resize, convert images to between 0 & 1 and normalize them\n",
        "                                                                               batch_size=32) # set mini-batch size to 32\n",
        "\n",
        "train_dataloader, test_dataloader, class_names"
      ],
      "metadata": {
        "id": "EWH7RZ1b8Ycf"
      },
      "execution_count": 12,
      "outputs": []
    },
    {
      "cell_type": "markdown",
      "source": [
        "#### Make an EfficientNet_V2_S model"
      ],
      "metadata": {
        "id": "rw4FwIHkCDOA"
      }
    },
    {
      "cell_type": "code",
      "source": [
        "import torchvision.models as models\n",
        "effnetv2_s_weight = models.EfficientNet_V2_S_Weights.DEFAULT #Default best available weights\n",
        "effnetv2_s = models.efficientnet_v2_s(weights=effnetv2_s_weight)\n",
        "#effnetv2_s #First run this then get the base layer:\n",
        "#    (0): Dropout(p=0.2, inplace=True)\n",
        "#    (1): Linear(in_features=1280, out_features=1000, bias=True)"
      ],
      "metadata": {
        "id": "Ch7V8uTKNLGL"
      },
      "execution_count": 14,
      "outputs": []
    },
    {
      "cell_type": "code",
      "source": [
        "from torchinfo import summary\n",
        "summary(model=effnetv2_s,\n",
        "        input_size=(1,3,244,244))"
      ],
      "metadata": {
        "id": "K3PF0TW6C9Vo",
        "outputId": "325ef68e-ea18-44ea-f09e-e04e866ab0f7",
        "colab": {
          "base_uri": "https://localhost:8080/"
        }
      },
      "execution_count": 15,
      "outputs": [
        {
          "output_type": "execute_result",
          "data": {
            "text/plain": [
              "=========================================================================================================\n",
              "Layer (type:depth-idx)                                  Output Shape              Param #\n",
              "=========================================================================================================\n",
              "EfficientNet                                            [1, 1000]                 --\n",
              "├─Sequential: 1-1                                       [1, 1280, 8, 8]           --\n",
              "│    └─Conv2dNormActivation: 2-1                        [1, 24, 122, 122]         --\n",
              "│    │    └─Conv2d: 3-1                                 [1, 24, 122, 122]         648\n",
              "│    │    └─BatchNorm2d: 3-2                            [1, 24, 122, 122]         48\n",
              "│    │    └─SiLU: 3-3                                   [1, 24, 122, 122]         --\n",
              "│    └─Sequential: 2-2                                  [1, 24, 122, 122]         --\n",
              "│    │    └─FusedMBConv: 3-4                            [1, 24, 122, 122]         5,232\n",
              "│    │    └─FusedMBConv: 3-5                            [1, 24, 122, 122]         5,232\n",
              "│    └─Sequential: 2-3                                  [1, 48, 61, 61]           --\n",
              "│    │    └─FusedMBConv: 3-6                            [1, 48, 61, 61]           25,632\n",
              "│    │    └─FusedMBConv: 3-7                            [1, 48, 61, 61]           92,640\n",
              "│    │    └─FusedMBConv: 3-8                            [1, 48, 61, 61]           92,640\n",
              "│    │    └─FusedMBConv: 3-9                            [1, 48, 61, 61]           92,640\n",
              "│    └─Sequential: 2-4                                  [1, 64, 31, 31]           --\n",
              "│    │    └─FusedMBConv: 3-10                           [1, 64, 31, 31]           95,744\n",
              "│    │    └─FusedMBConv: 3-11                           [1, 64, 31, 31]           164,480\n",
              "│    │    └─FusedMBConv: 3-12                           [1, 64, 31, 31]           164,480\n",
              "│    │    └─FusedMBConv: 3-13                           [1, 64, 31, 31]           164,480\n",
              "│    └─Sequential: 2-5                                  [1, 128, 16, 16]          --\n",
              "│    │    └─MBConv: 3-14                                [1, 128, 16, 16]          61,200\n",
              "│    │    └─MBConv: 3-15                                [1, 128, 16, 16]          171,296\n",
              "│    │    └─MBConv: 3-16                                [1, 128, 16, 16]          171,296\n",
              "│    │    └─MBConv: 3-17                                [1, 128, 16, 16]          171,296\n",
              "│    │    └─MBConv: 3-18                                [1, 128, 16, 16]          171,296\n",
              "│    │    └─MBConv: 3-19                                [1, 128, 16, 16]          171,296\n",
              "│    └─Sequential: 2-6                                  [1, 160, 16, 16]          --\n",
              "│    │    └─MBConv: 3-20                                [1, 160, 16, 16]          281,440\n",
              "│    │    └─MBConv: 3-21                                [1, 160, 16, 16]          397,800\n",
              "│    │    └─MBConv: 3-22                                [1, 160, 16, 16]          397,800\n",
              "│    │    └─MBConv: 3-23                                [1, 160, 16, 16]          397,800\n",
              "│    │    └─MBConv: 3-24                                [1, 160, 16, 16]          397,800\n",
              "│    │    └─MBConv: 3-25                                [1, 160, 16, 16]          397,800\n",
              "│    │    └─MBConv: 3-26                                [1, 160, 16, 16]          397,800\n",
              "│    │    └─MBConv: 3-27                                [1, 160, 16, 16]          397,800\n",
              "│    │    └─MBConv: 3-28                                [1, 160, 16, 16]          397,800\n",
              "│    └─Sequential: 2-7                                  [1, 256, 8, 8]            --\n",
              "│    │    └─MBConv: 3-29                                [1, 256, 8, 8]            490,152\n",
              "│    │    └─MBConv: 3-30                                [1, 256, 8, 8]            1,005,120\n",
              "│    │    └─MBConv: 3-31                                [1, 256, 8, 8]            1,005,120\n",
              "│    │    └─MBConv: 3-32                                [1, 256, 8, 8]            1,005,120\n",
              "│    │    └─MBConv: 3-33                                [1, 256, 8, 8]            1,005,120\n",
              "│    │    └─MBConv: 3-34                                [1, 256, 8, 8]            1,005,120\n",
              "│    │    └─MBConv: 3-35                                [1, 256, 8, 8]            1,005,120\n",
              "│    │    └─MBConv: 3-36                                [1, 256, 8, 8]            1,005,120\n",
              "│    │    └─MBConv: 3-37                                [1, 256, 8, 8]            1,005,120\n",
              "│    │    └─MBConv: 3-38                                [1, 256, 8, 8]            1,005,120\n",
              "│    │    └─MBConv: 3-39                                [1, 256, 8, 8]            1,005,120\n",
              "│    │    └─MBConv: 3-40                                [1, 256, 8, 8]            1,005,120\n",
              "│    │    └─MBConv: 3-41                                [1, 256, 8, 8]            1,005,120\n",
              "│    │    └─MBConv: 3-42                                [1, 256, 8, 8]            1,005,120\n",
              "│    │    └─MBConv: 3-43                                [1, 256, 8, 8]            1,005,120\n",
              "│    └─Conv2dNormActivation: 2-8                        [1, 1280, 8, 8]           --\n",
              "│    │    └─Conv2d: 3-44                                [1, 1280, 8, 8]           327,680\n",
              "│    │    └─BatchNorm2d: 3-45                           [1, 1280, 8, 8]           2,560\n",
              "│    │    └─SiLU: 3-46                                  [1, 1280, 8, 8]           --\n",
              "├─AdaptiveAvgPool2d: 1-2                                [1, 1280, 1, 1]           --\n",
              "├─Sequential: 1-3                                       [1, 1000]                 --\n",
              "│    └─Dropout: 2-9                                     [1, 1280]                 --\n",
              "│    └─Linear: 2-10                                     [1, 1000]                 1,281,000\n",
              "=========================================================================================================\n",
              "Total params: 21,458,488\n",
              "Trainable params: 21,458,488\n",
              "Non-trainable params: 0\n",
              "Total mult-adds (G): 3.55\n",
              "=========================================================================================================\n",
              "Input size (MB): 0.71\n",
              "Forward/backward pass size (MB): 245.98\n",
              "Params size (MB): 85.83\n",
              "Estimated Total Size (MB): 332.53\n",
              "========================================================================================================="
            ]
          },
          "metadata": {},
          "execution_count": 15
        }
      ]
    },
    {
      "cell_type": "code",
      "source": [],
      "metadata": {
        "id": "8QP-07TLDU8s"
      },
      "execution_count": null,
      "outputs": []
    }
  ]
}