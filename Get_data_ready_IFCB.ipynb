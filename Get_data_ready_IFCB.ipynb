{
  "nbformat": 4,
  "nbformat_minor": 0,
  "metadata": {
    "colab": {
      "provenance": [],
      "authorship_tag": "ABX9TyNIA9CvLD4KWPhWsBnw91v+",
      "include_colab_link": true
    },
    "kernelspec": {
      "name": "python3",
      "display_name": "Python 3"
    },
    "language_info": {
      "name": "python"
    }
  },
  "cells": [
    {
      "cell_type": "markdown",
      "metadata": {
        "id": "view-in-github",
        "colab_type": "text"
      },
      "source": [
        "<a href=\"https://colab.research.google.com/github/maritnorli/IFCB_CNN_Classify/blob/main/Get_data_ready_IFCB.ipynb\" target=\"_parent\"><img src=\"https://colab.research.google.com/assets/colab-badge.svg\" alt=\"Open In Colab\"/></a>"
      ]
    },
    {
      "cell_type": "markdown",
      "source": [
        "### Connect to T4!!"
      ],
      "metadata": {
        "id": "xqg3dwThC9Yq"
      }
    },
    {
      "cell_type": "code",
      "execution_count": 1,
      "metadata": {
        "colab": {
          "base_uri": "https://localhost:8080/"
        },
        "id": "cGqGLkejC6pq",
        "outputId": "67f2fe8a-48af-4847-afc3-e86d6abcc34f"
      },
      "outputs": [
        {
          "output_type": "stream",
          "name": "stdout",
          "text": [
            "Mounted at /content/drive\n"
          ]
        }
      ],
      "source": [
        "from google.colab import drive\n",
        "drive.mount('/content/drive')\n",
        "#Wat a minute before it shows"
      ]
    },
    {
      "cell_type": "code",
      "source": [
        "from pathlib import Path\n",
        "\n",
        "# Set data paths\n",
        "data_path = Path(\"/content/drive/MyDrive/IFCB/data/\")\n",
        "image_path = Path(\"/content/drive/MyDrive/IFCB/data/IFCB_test_train\")\n",
        "\n",
        "# Setup main dirs for test and train, all classes should have folders diectly under here\n",
        "train_dir = image_path / \"Train\"\n",
        "test_dir = image_path / \"Test\"\n",
        "\n"
      ],
      "metadata": {
        "id": "D3dRLyS3DewE"
      },
      "execution_count": 2,
      "outputs": []
    },
    {
      "cell_type": "code",
      "source": [
        "# For zipfiles\n",
        "#import os\n",
        "#import zipfile\n",
        "#\n",
        "#with zipfile.ZipFile(data_path / \"IFCB_test_train.zip\", \"r\") as zip_ref:\n",
        "#    print(\"Unzipping IFCB_test_train data...\")\n",
        "#    zip_ref.extractall(image_path)\n",
        "#\n",
        "## Remove zip file\n",
        "#os.remove(data_path / \"IFCB_test_train.zip\")"
      ],
      "metadata": {
        "id": "QKOkQJ3EEDAi"
      },
      "execution_count": 3,
      "outputs": []
    },
    {
      "cell_type": "code",
      "source": [
        "import os\n",
        "import random\n",
        "import shutil\n",
        "\n",
        "def split_images(folder_path, split_ratio=0.8):\n",
        "    # Create Train and Test folders within Google Drive\n",
        "    train_folder = os.path.join(train_dir, os.path.basename(folder_path))\n",
        "    test_folder = os.path.join(test_dir, os.path.basename(folder_path))\n",
        "\n",
        "    #train_folder = os.path.join('/content/drive/MyDrive/IFCB/data/IFCB_test_train/Train', os.path.basename(folder_path))\n",
        "    #test_folder = os.path.join('/content/drive/MyDrive/IFCB/data/IFCB_test_train/Test', os.path.basename(folder_path))\n",
        "    os.makedirs(train_folder, exist_ok=True)\n",
        "    os.makedirs(test_folder, exist_ok=True)\n",
        "\n",
        "    # Get list of image files\n",
        "    image_files = [f for f in os.listdir(folder_path) if f.endswith('.png')]\n",
        "    num_images = len(image_files)\n",
        "\n",
        "    # Calculate number of images for Train and Test\n",
        "    num_train = int(num_images * split_ratio)\n",
        "    num_test = num_images - num_train\n",
        "\n",
        "    # Shuffle the list of image files\n",
        "    random.shuffle(image_files)\n",
        "\n",
        "    # Copy images to Train and Test folders\n",
        "    for i, image_file in enumerate(image_files):\n",
        "        src = os.path.join(folder_path, image_file)\n",
        "        if i < num_train:\n",
        "            dst = os.path.join(train_folder, image_file)\n",
        "        else:\n",
        "            dst = os.path.join(test_folder, image_file)\n",
        "        shutil.copy(src, dst)\n",
        "\n",
        "    print(\"Splitting completed. Train folder contains {} images, Test folder contains {} images.\".format(num_train, num_test))\n",
        "\n",
        "# Example usage\n",
        "#split_images(\"/content/drive/MyDrive/IFCB/data/images/Achnathes_like_129\")"
      ],
      "metadata": {
        "colab": {
          "base_uri": "https://localhost:8080/"
        },
        "id": "LP1ZcqE6LNKI",
        "outputId": "761a4d00-ec40-4f6b-9876-67977a687cee"
      },
      "execution_count": 4,
      "outputs": [
        {
          "output_type": "stream",
          "name": "stdout",
          "text": [
            "Splitting completed. Train folder contains 21 images, Test folder contains 6 images.\n"
          ]
        }
      ]
    },
    {
      "cell_type": "code",
      "source": [
        "def process_folders(images_dir):\n",
        "    for folder_name in os.listdir(images_dir):\n",
        "        folder_path = os.path.join(images_dir, folder_name)\n",
        "        if os.path.isdir(folder_path):\n",
        "            split_images(folder_path)\n",
        "\n"
      ],
      "metadata": {
        "id": "9U8MqDJlIXwA"
      },
      "execution_count": 5,
      "outputs": []
    },
    {
      "cell_type": "code",
      "source": [
        "# Call the function with the images directory\n",
        "process_folders(\"/content/drive/MyDrive/IFCB/data/images\")"
      ],
      "metadata": {
        "colab": {
          "base_uri": "https://localhost:8080/"
        },
        "id": "SxhiRI31IqNZ",
        "outputId": "f38dd8f7-8089-4936-9092-e0c3a3441d80"
      },
      "execution_count": 6,
      "outputs": [
        {
          "output_type": "stream",
          "name": "stdout",
          "text": [
            "Splitting completed. Train folder contains 21 images, Test folder contains 6 images.\n",
            "Splitting completed. Train folder contains 33 images, Test folder contains 9 images.\n",
            "Splitting completed. Train folder contains 37 images, Test folder contains 10 images.\n",
            "Splitting completed. Train folder contains 58 images, Test folder contains 15 images.\n",
            "Splitting completed. Train folder contains 13 images, Test folder contains 4 images.\n"
          ]
        }
      ]
    }
  ]
}