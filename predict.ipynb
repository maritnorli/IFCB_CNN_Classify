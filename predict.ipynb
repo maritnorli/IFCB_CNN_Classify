{
 "cells": [
  {
   "cell_type": "code",
   "execution_count": 20,
   "metadata": {},
   "outputs": [],
   "source": [
    "import torch\n",
    "import torch.nn as nn\n",
    "import torchvision\n",
    "from torchvision import transforms\n",
    "from PIL import Image\n",
    "from pathlib import Path\n",
    "import pandas as pd\n",
    "import os\n",
    "from padfunc import CustomResizeAndReflectPad\n",
    "import json"
   ]
  },
  {
   "cell_type": "code",
   "execution_count": 21,
   "metadata": {},
   "outputs": [],
   "source": [
    "# Set device\n",
    "device = \"cuda\" if torch.cuda.is_available() else \"cpu\""
   ]
  },
  {
   "cell_type": "code",
   "execution_count": 22,
   "metadata": {},
   "outputs": [],
   "source": [
    "with open(\"C:/Data/Python/IFCBclassify_MN/data/models/model_20240624_154622/class_mapping.json\", 'r') as f:    \n",
    "    class_mapping = json.load(f)\n",
    "class_names = list(class_mapping.keys())"
   ]
  },
  {
   "cell_type": "code",
   "execution_count": 23,
   "metadata": {},
   "outputs": [],
   "source": [
    "# Transformation to be applied to the images\n",
    "simple_transform = transforms.Compose([\n",
    "    transforms.Grayscale(num_output_channels=3),\n",
    "    CustomResizeAndReflectPad(),\n",
    "    transforms.ToTensor(),\n",
    "    transforms.Normalize(mean=[0.485, 0.456, 0.406], std=[0.229, 0.224, 0.225]),\n",
    "])"
   ]
  },
  {
   "cell_type": "code",
   "execution_count": 24,
   "metadata": {},
   "outputs": [],
   "source": [
    "# Load the model\n",
    "def load_model(MODEL_PATH, class_names):\n",
    "    model = models.resnet18(weights=models.ResNet18_Weights.IMAGENET1K_V1).to(device)\n",
    "    num_ftrs = model.fc.in_features\n",
    "    model.fc = nn.Sequential(\n",
    "        nn.Dropout(p=0.2),\n",
    "        nn.Linear(num_ftrs, len(class_names))\n",
    "    ).to(device)\n",
    "    model.load_state_dict(torch.load(MODEL_PATH, map_location=device))\n",
    "    model.eval()\n",
    "    return model\n",
    "\n",
    "# Predict function\n",
    "def predict_image(image_path, model, transform, class_names):\n",
    "    image = Image.open(image_path)\n",
    "    transformed_image = transform(image).unsqueeze(0).to(device)\n",
    "    \n",
    "    model.eval()\n",
    "    with torch.inference_mode():\n",
    "        pred_logit = model(transformed_image)\n",
    "        predicted_prob = torch.softmax(pred_logit, dim=1)\n",
    "        pred_label = torch.argmax(predicted_prob, dim=1).item()\n",
    "        predicted_class = class_names[pred_label]\n",
    "        predicted_prob = predicted_prob[0, pred_label].item()\n",
    "        return predicted_class, predicted_prob\n",
    "\n",
    "\n",
    "# Predict on all images in a folder\n",
    "def predict_folder(folder_path, model, transform, class_names, output_file):\n",
    "    results = []\n",
    "    image_paths = list(Path(folder_path).glob('*.png'))\n",
    "\n",
    "    for image_path in image_paths:\n",
    "        predicted_class, predicted_prob = predict_image(image_path, model, transform, class_names)\n",
    "        results.append([image_path.name, predicted_class, predicted_prob])\n",
    "\n",
    "    # Save results to a CSV file\n",
    "    df = pd.DataFrame(results, columns=['image_name', 'predicted_class', 'probability'])\n",
    "    df.to_csv(output_file, index=False)\n",
    "    print(f\"Predictions saved to {output_file}\")\n"
   ]
  },
  {
   "cell_type": "code",
   "execution_count": 25,
   "metadata": {},
   "outputs": [],
   "source": [
    "#    with torch.no_grad():\n",
    "        # output = model(image)\n",
    "        # probabilities = torch.nn.functional.softmax(output[0], dim=0)\n",
    "        # _, predicted = torch.max(output, 1)\n",
    "        # predicted_class = class_names[predicted]\n",
    "        # predicted_prob = probabilities[predicted].item()\n",
    "        # return predicted_class, predicted_prob"
   ]
  },
  {
   "cell_type": "code",
   "execution_count": 26,
   "metadata": {},
   "outputs": [],
   "source": [
    "# Set paths\n",
    "MODEL_PATH = \"C:/Data/Python/IFCBclassify_MN/data/models/model_20240624_154622/model.pth\"\n",
    "IMAGE_FOLDER = \"C:/Data/Python/IFCB/data/Diverse/\"  # Ensure this is the directory containing images\n",
    "OUTPUT_FILE = \"C:/Data/Python/IFCBclassify_MN/data/models/model_20240624_154622/predictions.csv\"\n",
    "\n",
    "# Load the model\n",
    "model = load_model(MODEL_PATH, class_names)\n",
    "\n",
    "# Predict on all images in the folder and save results\n",
    "#predict_folder(IMAGE_FOLDER, model, simple_transform, CLASS_NAMES, OUTPUT_FILE)"
   ]
  }
 ],
 "metadata": {
  "kernelspec": {
   "display_name": "IFCB_CNN",
   "language": "python",
   "name": "python3"
  },
  "language_info": {
   "codemirror_mode": {
    "name": "ipython",
    "version": 3
   },
   "file_extension": ".py",
   "mimetype": "text/x-python",
   "name": "python",
   "nbconvert_exporter": "python",
   "pygments_lexer": "ipython3",
   "version": "3.10.14"
  }
 },
 "nbformat": 4,
 "nbformat_minor": 2
}
