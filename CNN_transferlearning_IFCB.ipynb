{
  "nbformat": 4,
  "nbformat_minor": 0,
  "metadata": {
    "colab": {
      "provenance": [],
      "mount_file_id": "https://github.com/maritnorli/IFCB_CNN_Classify/blob/main/CNN_transferlearning_IFCB.ipynb",
      "authorship_tag": "ABX9TyOtsrMbBbkEGxNvQGTSlDF0",
      "include_colab_link": true
    },
    "kernelspec": {
      "name": "python3",
      "display_name": "Python 3"
    },
    "language_info": {
      "name": "python"
    },
    "widgets": {
      "application/vnd.jupyter.widget-state+json": {
        "829e6c9d179f4c0591d142e0b11f2b48": {
          "model_module": "@jupyter-widgets/controls",
          "model_name": "HBoxModel",
          "model_module_version": "1.5.0",
          "state": {
            "_dom_classes": [],
            "_model_module": "@jupyter-widgets/controls",
            "_model_module_version": "1.5.0",
            "_model_name": "HBoxModel",
            "_view_count": null,
            "_view_module": "@jupyter-widgets/controls",
            "_view_module_version": "1.5.0",
            "_view_name": "HBoxView",
            "box_style": "",
            "children": [
              "IPY_MODEL_b79826ee97064f8ca0dbc65c9bdabafa",
              "IPY_MODEL_6650ca56dd7b421983d74c4edea9954f",
              "IPY_MODEL_05a9e677aaaf46699b39c924ce3ea0cc"
            ],
            "layout": "IPY_MODEL_63f3dbbb5c744ac98668369732d83be0"
          }
        },
        "b79826ee97064f8ca0dbc65c9bdabafa": {
          "model_module": "@jupyter-widgets/controls",
          "model_name": "HTMLModel",
          "model_module_version": "1.5.0",
          "state": {
            "_dom_classes": [],
            "_model_module": "@jupyter-widgets/controls",
            "_model_module_version": "1.5.0",
            "_model_name": "HTMLModel",
            "_view_count": null,
            "_view_module": "@jupyter-widgets/controls",
            "_view_module_version": "1.5.0",
            "_view_name": "HTMLView",
            "description": "",
            "description_tooltip": null,
            "layout": "IPY_MODEL_8be8a30190fb4471994b56dbc736a5b9",
            "placeholder": "​",
            "style": "IPY_MODEL_ea1d60ad4f5542588f86a8abf2c508e1",
            "value": "100%"
          }
        },
        "6650ca56dd7b421983d74c4edea9954f": {
          "model_module": "@jupyter-widgets/controls",
          "model_name": "FloatProgressModel",
          "model_module_version": "1.5.0",
          "state": {
            "_dom_classes": [],
            "_model_module": "@jupyter-widgets/controls",
            "_model_module_version": "1.5.0",
            "_model_name": "FloatProgressModel",
            "_view_count": null,
            "_view_module": "@jupyter-widgets/controls",
            "_view_module_version": "1.5.0",
            "_view_name": "ProgressView",
            "bar_style": "success",
            "description": "",
            "description_tooltip": null,
            "layout": "IPY_MODEL_142257f13d654143a6647d4aaca56c58",
            "max": 5,
            "min": 0,
            "orientation": "horizontal",
            "style": "IPY_MODEL_59511632471d4f07bb6dc97dc37de15e",
            "value": 5
          }
        },
        "05a9e677aaaf46699b39c924ce3ea0cc": {
          "model_module": "@jupyter-widgets/controls",
          "model_name": "HTMLModel",
          "model_module_version": "1.5.0",
          "state": {
            "_dom_classes": [],
            "_model_module": "@jupyter-widgets/controls",
            "_model_module_version": "1.5.0",
            "_model_name": "HTMLModel",
            "_view_count": null,
            "_view_module": "@jupyter-widgets/controls",
            "_view_module_version": "1.5.0",
            "_view_name": "HTMLView",
            "description": "",
            "description_tooltip": null,
            "layout": "IPY_MODEL_cefdba3b963d496589c28df41632cd20",
            "placeholder": "​",
            "style": "IPY_MODEL_af1c5db94c054d44a6c82927ea9fbddc",
            "value": " 5/5 [03:41&lt;00:00, 41.20s/it]"
          }
        },
        "63f3dbbb5c744ac98668369732d83be0": {
          "model_module": "@jupyter-widgets/base",
          "model_name": "LayoutModel",
          "model_module_version": "1.2.0",
          "state": {
            "_model_module": "@jupyter-widgets/base",
            "_model_module_version": "1.2.0",
            "_model_name": "LayoutModel",
            "_view_count": null,
            "_view_module": "@jupyter-widgets/base",
            "_view_module_version": "1.2.0",
            "_view_name": "LayoutView",
            "align_content": null,
            "align_items": null,
            "align_self": null,
            "border": null,
            "bottom": null,
            "display": null,
            "flex": null,
            "flex_flow": null,
            "grid_area": null,
            "grid_auto_columns": null,
            "grid_auto_flow": null,
            "grid_auto_rows": null,
            "grid_column": null,
            "grid_gap": null,
            "grid_row": null,
            "grid_template_areas": null,
            "grid_template_columns": null,
            "grid_template_rows": null,
            "height": null,
            "justify_content": null,
            "justify_items": null,
            "left": null,
            "margin": null,
            "max_height": null,
            "max_width": null,
            "min_height": null,
            "min_width": null,
            "object_fit": null,
            "object_position": null,
            "order": null,
            "overflow": null,
            "overflow_x": null,
            "overflow_y": null,
            "padding": null,
            "right": null,
            "top": null,
            "visibility": null,
            "width": null
          }
        },
        "8be8a30190fb4471994b56dbc736a5b9": {
          "model_module": "@jupyter-widgets/base",
          "model_name": "LayoutModel",
          "model_module_version": "1.2.0",
          "state": {
            "_model_module": "@jupyter-widgets/base",
            "_model_module_version": "1.2.0",
            "_model_name": "LayoutModel",
            "_view_count": null,
            "_view_module": "@jupyter-widgets/base",
            "_view_module_version": "1.2.0",
            "_view_name": "LayoutView",
            "align_content": null,
            "align_items": null,
            "align_self": null,
            "border": null,
            "bottom": null,
            "display": null,
            "flex": null,
            "flex_flow": null,
            "grid_area": null,
            "grid_auto_columns": null,
            "grid_auto_flow": null,
            "grid_auto_rows": null,
            "grid_column": null,
            "grid_gap": null,
            "grid_row": null,
            "grid_template_areas": null,
            "grid_template_columns": null,
            "grid_template_rows": null,
            "height": null,
            "justify_content": null,
            "justify_items": null,
            "left": null,
            "margin": null,
            "max_height": null,
            "max_width": null,
            "min_height": null,
            "min_width": null,
            "object_fit": null,
            "object_position": null,
            "order": null,
            "overflow": null,
            "overflow_x": null,
            "overflow_y": null,
            "padding": null,
            "right": null,
            "top": null,
            "visibility": null,
            "width": null
          }
        },
        "ea1d60ad4f5542588f86a8abf2c508e1": {
          "model_module": "@jupyter-widgets/controls",
          "model_name": "DescriptionStyleModel",
          "model_module_version": "1.5.0",
          "state": {
            "_model_module": "@jupyter-widgets/controls",
            "_model_module_version": "1.5.0",
            "_model_name": "DescriptionStyleModel",
            "_view_count": null,
            "_view_module": "@jupyter-widgets/base",
            "_view_module_version": "1.2.0",
            "_view_name": "StyleView",
            "description_width": ""
          }
        },
        "142257f13d654143a6647d4aaca56c58": {
          "model_module": "@jupyter-widgets/base",
          "model_name": "LayoutModel",
          "model_module_version": "1.2.0",
          "state": {
            "_model_module": "@jupyter-widgets/base",
            "_model_module_version": "1.2.0",
            "_model_name": "LayoutModel",
            "_view_count": null,
            "_view_module": "@jupyter-widgets/base",
            "_view_module_version": "1.2.0",
            "_view_name": "LayoutView",
            "align_content": null,
            "align_items": null,
            "align_self": null,
            "border": null,
            "bottom": null,
            "display": null,
            "flex": null,
            "flex_flow": null,
            "grid_area": null,
            "grid_auto_columns": null,
            "grid_auto_flow": null,
            "grid_auto_rows": null,
            "grid_column": null,
            "grid_gap": null,
            "grid_row": null,
            "grid_template_areas": null,
            "grid_template_columns": null,
            "grid_template_rows": null,
            "height": null,
            "justify_content": null,
            "justify_items": null,
            "left": null,
            "margin": null,
            "max_height": null,
            "max_width": null,
            "min_height": null,
            "min_width": null,
            "object_fit": null,
            "object_position": null,
            "order": null,
            "overflow": null,
            "overflow_x": null,
            "overflow_y": null,
            "padding": null,
            "right": null,
            "top": null,
            "visibility": null,
            "width": null
          }
        },
        "59511632471d4f07bb6dc97dc37de15e": {
          "model_module": "@jupyter-widgets/controls",
          "model_name": "ProgressStyleModel",
          "model_module_version": "1.5.0",
          "state": {
            "_model_module": "@jupyter-widgets/controls",
            "_model_module_version": "1.5.0",
            "_model_name": "ProgressStyleModel",
            "_view_count": null,
            "_view_module": "@jupyter-widgets/base",
            "_view_module_version": "1.2.0",
            "_view_name": "StyleView",
            "bar_color": null,
            "description_width": ""
          }
        },
        "cefdba3b963d496589c28df41632cd20": {
          "model_module": "@jupyter-widgets/base",
          "model_name": "LayoutModel",
          "model_module_version": "1.2.0",
          "state": {
            "_model_module": "@jupyter-widgets/base",
            "_model_module_version": "1.2.0",
            "_model_name": "LayoutModel",
            "_view_count": null,
            "_view_module": "@jupyter-widgets/base",
            "_view_module_version": "1.2.0",
            "_view_name": "LayoutView",
            "align_content": null,
            "align_items": null,
            "align_self": null,
            "border": null,
            "bottom": null,
            "display": null,
            "flex": null,
            "flex_flow": null,
            "grid_area": null,
            "grid_auto_columns": null,
            "grid_auto_flow": null,
            "grid_auto_rows": null,
            "grid_column": null,
            "grid_gap": null,
            "grid_row": null,
            "grid_template_areas": null,
            "grid_template_columns": null,
            "grid_template_rows": null,
            "height": null,
            "justify_content": null,
            "justify_items": null,
            "left": null,
            "margin": null,
            "max_height": null,
            "max_width": null,
            "min_height": null,
            "min_width": null,
            "object_fit": null,
            "object_position": null,
            "order": null,
            "overflow": null,
            "overflow_x": null,
            "overflow_y": null,
            "padding": null,
            "right": null,
            "top": null,
            "visibility": null,
            "width": null
          }
        },
        "af1c5db94c054d44a6c82927ea9fbddc": {
          "model_module": "@jupyter-widgets/controls",
          "model_name": "DescriptionStyleModel",
          "model_module_version": "1.5.0",
          "state": {
            "_model_module": "@jupyter-widgets/controls",
            "_model_module_version": "1.5.0",
            "_model_name": "DescriptionStyleModel",
            "_view_count": null,
            "_view_module": "@jupyter-widgets/base",
            "_view_module_version": "1.2.0",
            "_view_name": "StyleView",
            "description_width": ""
          }
        }
      }
    }
  },
  "cells": [
    {
      "cell_type": "markdown",
      "metadata": {
        "id": "view-in-github",
        "colab_type": "text"
      },
      "source": [
        "<a href=\"https://colab.research.google.com/github/maritnorli/IFCB_CNN_Classify/blob/main/CNN_transferlearning_IFCB.ipynb\" target=\"_parent\"><img src=\"https://colab.research.google.com/assets/colab-badge.svg\" alt=\"Open In Colab\"/></a>"
      ]
    },
    {
      "cell_type": "markdown",
      "source": [
        "### ***Mount Drive manually in Colab!!!***"
      ],
      "metadata": {
        "id": "ncKHXtks2_Yu"
      }
    },
    {
      "cell_type": "markdown",
      "source": [
        "### Copy files from drive to colab to work in colab"
      ],
      "metadata": {
        "id": "9Sk0F5K6vWaZ"
      }
    },
    {
      "cell_type": "code",
      "source": [
        "## Import the colab libraries and set up paths\n",
        "from google.colab import drive\n",
        "import os\n",
        "\n",
        "## copy files from drive to colab\n",
        "import shutil\n",
        "# Specify the path to your \"going_modular\" folder in Google Drive\n",
        "drive_path = \"/content/drive/MyDrive/IFCB/going_modular\"\n",
        "\n",
        "\n",
        "# List files in the \"going_modular\" folder\n",
        "files = os.listdir(drive_path)\n",
        "\n",
        "# Copy each file individually to the /content directory\n",
        "for file in files:\n",
        "    src = os.path.join(drive_path, file)\n",
        "    dst = os.path.join(\"/content\", file)\n",
        "    try:\n",
        "        shutil.copy(src, dst)\n",
        "    except Exception as e:\n",
        "        print(f\"Failed to copy {file}: {e}\")\n",
        "\n",
        "# wait a minute or so before it pops up"
      ],
      "metadata": {
        "id": "7E82kBW4oq4j"
      },
      "execution_count": 1,
      "outputs": []
    },
    {
      "cell_type": "markdown",
      "source": [
        "## 01. Prepare data"
      ],
      "metadata": {
        "id": "cNRgV7HXq_tb"
      }
    },
    {
      "cell_type": "code",
      "source": [
        "from pathlib import Path\n",
        "\n",
        "# Set data paths\n",
        "data_path = Path(\"/content/drive/MyDrive/IFCB/data/\")\n",
        "image_path = Path(\"/content/drive/MyDrive/IFCB/data/IFCB_test_train\")\n",
        "\n",
        "# Setup Dirs\n",
        "train_dir = image_path / \"Train\"\n",
        "test_dir = image_path / \"Test\"\n"
      ],
      "metadata": {
        "id": "n6u0x-Pyr3A_"
      },
      "execution_count": 12,
      "outputs": []
    },
    {
      "cell_type": "code",
      "source": [
        "# Continue with regular imports\n",
        "import matplotlib.pyplot as plt\n",
        "import torch\n",
        "import torchvision\n",
        "\n",
        "from torch import nn\n",
        "from torchvision import transforms\n",
        "\n",
        "# Try to get torchinfo, install it if it doesn't work\n",
        "try:\n",
        "    from torchinfo import summary\n",
        "except:\n",
        "    print(\"[INFO] Couldn't find torchinfo... installing it.\")\n",
        "    !pip install -q torchinfo\n",
        "    from torchinfo import summary\n",
        "\n",
        "# Now try importing modules directly from the copied drive files\n",
        "try:\n",
        "    import data_setup\n",
        "    import engine\n",
        "\n",
        "except ModuleNotFoundError as e:\n",
        "    print(f\"Failed to import modules: {e}\")\n"
      ],
      "metadata": {
        "id": "YKuxD09jvmtJ"
      },
      "execution_count": 13,
      "outputs": []
    },
    {
      "cell_type": "code",
      "source": [
        "# Setup device agnostic code\n",
        "device = \"cuda\" if torch.cuda.is_available() else \"cpu\"\n",
        "device"
      ],
      "metadata": {
        "colab": {
          "base_uri": "https://localhost:8080/",
          "height": 35
        },
        "id": "kw8myfCh4hQt",
        "outputId": "bc240f41-f864-46f9-f087-36f1af63f0ae"
      },
      "execution_count": 14,
      "outputs": [
        {
          "output_type": "execute_result",
          "data": {
            "text/plain": [
              "'cpu'"
            ],
            "application/vnd.google.colaboratory.intrinsic+json": {
              "type": "string"
            }
          },
          "metadata": {},
          "execution_count": 14
        }
      ]
    },
    {
      "cell_type": "code",
      "source": [
        "#Create transforms pipeline\n",
        "simple_transform = transforms.Compose([\n",
        "    transforms.Resize((244, 244)),\n",
        "    transforms.Grayscale(num_output_channels=3),\n",
        "    transforms.ToTensor(),\n",
        "    transforms.Normalize(mean=[0.485, 0.456, 0.406],\n",
        "                         std=[0.229, 0.224, 0.225]),\n",
        "])"
      ],
      "metadata": {
        "id": "zMyADtuJoq01"
      },
      "execution_count": 16,
      "outputs": []
    },
    {
      "cell_type": "code",
      "source": [
        "# Create training and testing dataloaders as well as get a list of class names\n",
        "train_dataloader, test_dataloader, class_names = data_setup.create_dataloaders(train_dir=train_dir,\n",
        "                                                                               test_dir=test_dir,\n",
        "                                                                               transform=simple_transform, # resize, convert images to between 0 & 1 and normalize them\n",
        "                                                                               batch_size=32) # set mini-batch size to 32\n",
        "\n",
        "train_dataloader, test_dataloader, class_names"
      ],
      "metadata": {
        "id": "iBc114Thoqxt",
        "colab": {
          "base_uri": "https://localhost:8080/"
        },
        "outputId": "672dec54-eba2-40e3-d5bb-54a92c33c975"
      },
      "execution_count": 19,
      "outputs": [
        {
          "output_type": "execute_result",
          "data": {
            "text/plain": [
              "(<torch.utils.data.dataloader.DataLoader at 0x7f594051e3b0>,\n",
              " <torch.utils.data.dataloader.DataLoader at 0x7f594051d510>,\n",
              " ['Chaetoceros_decipiens_118',\n",
              "  'Guinardia_delicatula_095',\n",
              "  'Tripos_muelleri_008'])"
            ]
          },
          "metadata": {},
          "execution_count": 19
        }
      ]
    },
    {
      "cell_type": "markdown",
      "source": [
        "### Get and prepare a pretrained model\n"
      ],
      "metadata": {
        "id": "ZnClaPkbu7RD"
      }
    },
    {
      "cell_type": "code",
      "source": [
        "# model = torchvision.models.efficientnet_b0(pretrained=True)\n",
        "\n",
        "# New method of creating a pretrained model (torchvision v0.13+)\n",
        "#weights = torchvision.models.EfficientNet_B0_Weights.DEFAULT # \".DEFAULT\" = best available weights\n",
        "model = torchvision.models.efficientnet_b0(pretrained=True).to(device)\n",
        "#model #uncoment to output (its very long)"
      ],
      "metadata": {
        "id": "mQny6aSjviIK",
        "outputId": "8a288424-d888-40d3-b43d-5d63357f7ab5",
        "colab": {
          "base_uri": "https://localhost:8080/"
        }
      },
      "execution_count": 20,
      "outputs": [
        {
          "output_type": "stream",
          "name": "stderr",
          "text": [
            "/usr/local/lib/python3.10/dist-packages/torchvision/models/_utils.py:208: UserWarning: The parameter 'pretrained' is deprecated since 0.13 and may be removed in the future, please use 'weights' instead.\n",
            "  warnings.warn(\n",
            "/usr/local/lib/python3.10/dist-packages/torchvision/models/_utils.py:223: UserWarning: Arguments other than a weight enum or `None` for 'weights' are deprecated since 0.13 and may be removed in the future. The current behavior is equivalent to passing `weights=EfficientNet_B0_Weights.IMAGENET1K_V1`. You can also use `weights=EfficientNet_B0_Weights.DEFAULT` to get the most up-to-date weights.\n",
            "  warnings.warn(msg)\n",
            "Downloading: \"https://download.pytorch.org/models/efficientnet_b0_rwightman-7f5810bc.pth\" to /root/.cache/torch/hub/checkpoints/efficientnet_b0_rwightman-7f5810bc.pth\n",
            "100%|██████████| 20.5M/20.5M [00:00<00:00, 66.5MB/s]\n"
          ]
        }
      ]
    },
    {
      "cell_type": "code",
      "source": [
        "# Freeze all of the base layers in EffNetB0\n",
        "for param in model.features.parameters():\n",
        "  # print(param)\n",
        "  param.requires_grad = False"
      ],
      "metadata": {
        "id": "XHMGwunbviBg"
      },
      "execution_count": 21,
      "outputs": []
    },
    {
      "cell_type": "code",
      "source": [
        "# Update the classifier head of our model to suit our problem\n",
        "from torch import nn\n",
        "\n",
        "torch.manual_seed(42)\n",
        "torch.cuda.manual_seed(42)\n",
        "\n",
        "# Get the length of class_names (one output unit for each class)\n",
        "output_shape = len(class_names)\n",
        "\n",
        "#Recreate the classifier layer and seed it to the target device\n",
        "\n",
        "model.classifier = nn.Sequential(\n",
        "    nn.Dropout(p=0.2, inplace=True),\n",
        "    nn.Linear(in_features=1280, # feature vector coming in\n",
        "              out_features=output_shape,\n",
        "              bias=True)).to(device) # how many classes do we have?\n",
        "\n",
        "#model.classifier"
      ],
      "metadata": {
        "id": "MiU7PPOOvh-w"
      },
      "execution_count": 22,
      "outputs": []
    },
    {
      "cell_type": "markdown",
      "source": [
        "### Train model"
      ],
      "metadata": {
        "id": "TViCXE_kxxET"
      }
    },
    {
      "cell_type": "code",
      "source": [
        "# Define loss and optimizer\n",
        "loss_fn = nn.CrossEntropyLoss()\n",
        "optimizer = torch.optim.Adam(model.parameters(), lr=0.001)"
      ],
      "metadata": {
        "id": "qtbXS-0yvh7O"
      },
      "execution_count": 23,
      "outputs": []
    },
    {
      "cell_type": "code",
      "source": [
        "# Set the manual seeds\n",
        "torch.manual_seed(42)\n",
        "torch.cuda.manual_seed(42)\n",
        "\n",
        "# Start the timer\n",
        "from timeit import default_timer as timer\n",
        "start_time = timer()\n",
        "\n",
        "# Setup training and save the results\n",
        "results = engine.train(model=model,\n",
        "                       train_dataloader=train_dataloader,\n",
        "                       test_dataloader=test_dataloader,\n",
        "                       optimizer=optimizer,\n",
        "                       loss_fn=loss_fn,\n",
        "                       epochs=5,\n",
        "                       device=device)\n",
        "\n",
        "# End the timer and print out how long it took\n",
        "end_time = timer()\n",
        "print(f\"[INFO] Total training time: {end_time-start_time:.3f} seconds\")"
      ],
      "metadata": {
        "id": "DLOXcDfPvh4B",
        "outputId": "8e370350-70bd-476c-ed06-98b429b469f6",
        "colab": {
          "base_uri": "https://localhost:8080/",
          "height": 176,
          "referenced_widgets": [
            "829e6c9d179f4c0591d142e0b11f2b48",
            "b79826ee97064f8ca0dbc65c9bdabafa",
            "6650ca56dd7b421983d74c4edea9954f",
            "05a9e677aaaf46699b39c924ce3ea0cc",
            "63f3dbbb5c744ac98668369732d83be0",
            "8be8a30190fb4471994b56dbc736a5b9",
            "ea1d60ad4f5542588f86a8abf2c508e1",
            "142257f13d654143a6647d4aaca56c58",
            "59511632471d4f07bb6dc97dc37de15e",
            "cefdba3b963d496589c28df41632cd20",
            "af1c5db94c054d44a6c82927ea9fbddc"
          ]
        }
      },
      "execution_count": 24,
      "outputs": [
        {
          "output_type": "display_data",
          "data": {
            "text/plain": [
              "  0%|          | 0/5 [00:00<?, ?it/s]"
            ],
            "application/vnd.jupyter.widget-view+json": {
              "version_major": 2,
              "version_minor": 0,
              "model_id": "829e6c9d179f4c0591d142e0b11f2b48"
            }
          },
          "metadata": {}
        },
        {
          "output_type": "stream",
          "name": "stdout",
          "text": [
            "Epoch: 1 | train_loss: 0.8551 | train_acc: 0.6667 | test_loss: 0.5687 | test_acc: 1.0000\n",
            "Epoch: 2 | train_loss: 0.4823 | train_acc: 0.9251 | test_loss: 0.4524 | test_acc: 1.0000\n",
            "Epoch: 3 | train_loss: 0.3169 | train_acc: 0.9554 | test_loss: 0.3679 | test_acc: 1.0000\n",
            "Epoch: 4 | train_loss: 0.2022 | train_acc: 0.9821 | test_loss: 0.2679 | test_acc: 1.0000\n",
            "Epoch: 5 | train_loss: 0.1382 | train_acc: 0.9955 | test_loss: 0.2006 | test_acc: 1.0000\n",
            "[INFO] Total training time: 221.102 seconds\n"
          ]
        }
      ]
    },
    {
      "cell_type": "markdown",
      "source": [
        "### Make predictions on the entire test dataset with the model"
      ],
      "metadata": {
        "id": "V8NyXXv_vgqy"
      }
    },
    {
      "cell_type": "code",
      "source": [
        "from tqdm.auto import tqdm\n",
        "# Make predictions on the entire test dataset\n",
        "test_preds = []\n",
        "model.eval()\n",
        "print(f\"Length of test dataloader is {len(test_dataloader)} batches\")\n",
        "\n",
        "with torch.inference_mode():\n",
        "  #loop through the batches in the test dataloader\n",
        "  for X, y in tqdm(test_dataloader):\n",
        "    X, y = X.to(device), y.to(device)\n",
        "    # PAss the data through the model\n",
        "    test_logits = model(X)\n",
        "\n",
        "    #convert the pred logits to pred probs\n",
        "    pred_probs = torch.softmax(test_logits, dim=1)\n",
        "\n",
        "    #convert the pred probs into pred labels\n",
        "    pred_labels = torch.argmax(pred_probs, dim=1)\n",
        "\n",
        "\n"
      ],
      "metadata": {
        "id": "n-K9Z8BEzQLw"
      },
      "execution_count": null,
      "outputs": []
    },
    {
      "cell_type": "code",
      "source": [],
      "metadata": {
        "id": "ncPxyBaozQGj"
      },
      "execution_count": null,
      "outputs": []
    },
    {
      "cell_type": "code",
      "source": [],
      "metadata": {
        "id": "WeOv8caazQCA"
      },
      "execution_count": null,
      "outputs": []
    },
    {
      "cell_type": "code",
      "source": [],
      "metadata": {
        "id": "EMa_dfoYzP9q"
      },
      "execution_count": null,
      "outputs": []
    }
  ]
}