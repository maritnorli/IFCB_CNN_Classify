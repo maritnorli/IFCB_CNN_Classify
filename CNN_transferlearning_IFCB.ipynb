{
  "nbformat": 4,
  "nbformat_minor": 0,
  "metadata": {
    "colab": {
      "provenance": [],
      "mount_file_id": "https://github.com/maritnorli/IFCB_CNN_Classify/blob/main/CNN_transferlearning_IFCB.ipynb",
      "authorship_tag": "ABX9TyPJ117yVgQ9Ev2o+b2/pCvS",
      "include_colab_link": true
    },
    "kernelspec": {
      "name": "python3",
      "display_name": "Python 3"
    },
    "language_info": {
      "name": "python"
    }
  },
  "cells": [
    {
      "cell_type": "markdown",
      "metadata": {
        "id": "view-in-github",
        "colab_type": "text"
      },
      "source": [
        "<a href=\"https://colab.research.google.com/github/maritnorli/IFCB_CNN_Classify/blob/main/CNN_transferlearning_IFCB.ipynb\" target=\"_parent\"><img src=\"https://colab.research.google.com/assets/colab-badge.svg\" alt=\"Open In Colab\"/></a>"
      ]
    },
    {
      "cell_type": "markdown",
      "source": [
        "### ***Mount Drive manually in Colab!!!***"
      ],
      "metadata": {
        "id": "ncKHXtks2_Yu"
      }
    },
    {
      "cell_type": "markdown",
      "source": [
        "### Copy files from drive to colab to work in colab"
      ],
      "metadata": {
        "id": "9Sk0F5K6vWaZ"
      }
    },
    {
      "cell_type": "code",
      "source": [
        "## Import the colab libraries and set up paths\n",
        "from google.colab import drive\n",
        "import os\n",
        "\n",
        "## copy files from drive to colab\n",
        "import shutil\n",
        "# Specify the path to your \"going_modular\" folder in Google Drive\n",
        "drive_path = \"/content/drive/MyDrive/IFCB/going_modular\"\n",
        "\n",
        "\n",
        "# List files in the \"going_modular\" folder\n",
        "files = os.listdir(drive_path)\n",
        "\n",
        "# Copy each file individually to the /content directory\n",
        "for file in files:\n",
        "    src = os.path.join(drive_path, file)\n",
        "    dst = os.path.join(\"/content\", file)\n",
        "    try:\n",
        "        shutil.copy(src, dst)\n",
        "    except Exception as e:\n",
        "        print(f\"Failed to copy {file}: {e}\")\n",
        "\n"
      ],
      "metadata": {
        "id": "7E82kBW4oq4j"
      },
      "execution_count": 9,
      "outputs": []
    },
    {
      "cell_type": "markdown",
      "source": [
        "## 01. Prepare data"
      ],
      "metadata": {
        "id": "cNRgV7HXq_tb"
      }
    },
    {
      "cell_type": "code",
      "source": [
        "# Continue with regular imports\n",
        "import matplotlib.pyplot as plt\n",
        "import torch\n",
        "import torchvision\n",
        "\n",
        "from torch import nn\n",
        "from torchvision import transforms\n",
        "\n",
        "# Try to get torchinfo, install it if it doesn't work\n",
        "try:\n",
        "    from torchinfo import summary\n",
        "except:\n",
        "    print(\"[INFO] Couldn't find torchinfo... installing it.\")\n",
        "    !pip install -q torchinfo\n",
        "    from torchinfo import summary\n",
        "\n",
        "# Now try importing modules directly from the copied drive files\n",
        "try:\n",
        "    import data_setup\n",
        "    import engine\n",
        "\n",
        "except ModuleNotFoundError as e:\n",
        "    print(f\"Failed to import modules: {e}\")\n"
      ],
      "metadata": {
        "id": "YKuxD09jvmtJ",
        "colab": {
          "base_uri": "https://localhost:8080/"
        },
        "outputId": "dcc0b383-bcd7-42dd-c4ba-460f69549f64"
      },
      "execution_count": 10,
      "outputs": [
        {
          "output_type": "stream",
          "name": "stdout",
          "text": [
            "[INFO] Couldn't find torchinfo... installing it.\n"
          ]
        }
      ]
    },
    {
      "cell_type": "code",
      "source": [
        "# Setup device agnostic code\n",
        "device = \"cuda\" if torch.cuda.is_available() else \"cpu\"\n",
        "device"
      ],
      "metadata": {
        "colab": {
          "base_uri": "https://localhost:8080/",
          "height": 35
        },
        "id": "kw8myfCh4hQt",
        "outputId": "55320ac2-8ff6-492a-cedf-bdd98c91d517"
      },
      "execution_count": 12,
      "outputs": [
        {
          "output_type": "execute_result",
          "data": {
            "text/plain": [
              "'cpu'"
            ],
            "application/vnd.google.colaboratory.intrinsic+json": {
              "type": "string"
            }
          },
          "metadata": {},
          "execution_count": 12
        }
      ]
    },
    {
      "cell_type": "code",
      "source": [
        "#Create transforms pipeline\n",
        "simple_transform = transforms.Compose([\n",
        "    transforms.Resize(image_size),\n",
        "    transforms.Grayscale(num_output_channels=3),\n",
        "    transforms.ToTensor(),\n",
        "    transforms.Normalize(mean=[0.485, 0.456, 0.406],\n",
        "                         std=[0.229, 0.224, 0.225]),\n",
        "])"
      ],
      "metadata": {
        "id": "zMyADtuJoq01",
        "colab": {
          "base_uri": "https://localhost:8080/",
          "height": 215
        },
        "outputId": "4686c7d4-4788-4963-a707-ae6d0ee0a0af"
      },
      "execution_count": 11,
      "outputs": [
        {
          "output_type": "error",
          "ename": "NameError",
          "evalue": "name 'image_size' is not defined",
          "traceback": [
            "\u001b[0;31m---------------------------------------------------------------------------\u001b[0m",
            "\u001b[0;31mNameError\u001b[0m                                 Traceback (most recent call last)",
            "\u001b[0;32m<ipython-input-11-926682fc4f3d>\u001b[0m in \u001b[0;36m<cell line: 2>\u001b[0;34m()\u001b[0m\n\u001b[1;32m      1\u001b[0m \u001b[0;31m#Create transforms pipeline\u001b[0m\u001b[0;34m\u001b[0m\u001b[0;34m\u001b[0m\u001b[0m\n\u001b[1;32m      2\u001b[0m simple_transform = transforms.Compose([\n\u001b[0;32m----> 3\u001b[0;31m     \u001b[0mtransforms\u001b[0m\u001b[0;34m.\u001b[0m\u001b[0mResize\u001b[0m\u001b[0;34m(\u001b[0m\u001b[0mimage_size\u001b[0m\u001b[0;34m)\u001b[0m\u001b[0;34m,\u001b[0m\u001b[0;34m\u001b[0m\u001b[0;34m\u001b[0m\u001b[0m\n\u001b[0m\u001b[1;32m      4\u001b[0m     \u001b[0mtransforms\u001b[0m\u001b[0;34m.\u001b[0m\u001b[0mGrayscale\u001b[0m\u001b[0;34m(\u001b[0m\u001b[0mnum_output_channels\u001b[0m\u001b[0;34m=\u001b[0m\u001b[0;36m3\u001b[0m\u001b[0;34m)\u001b[0m\u001b[0;34m,\u001b[0m\u001b[0;34m\u001b[0m\u001b[0;34m\u001b[0m\u001b[0m\n\u001b[1;32m      5\u001b[0m     \u001b[0mtransforms\u001b[0m\u001b[0;34m.\u001b[0m\u001b[0mToTensor\u001b[0m\u001b[0;34m(\u001b[0m\u001b[0;34m)\u001b[0m\u001b[0;34m,\u001b[0m\u001b[0;34m\u001b[0m\u001b[0;34m\u001b[0m\u001b[0m\n",
            "\u001b[0;31mNameError\u001b[0m: name 'image_size' is not defined"
          ]
        }
      ]
    },
    {
      "cell_type": "code",
      "source": [
        "rs as well as get a list of class names\n",
        "train_dataloader, test_dataloader, class_names = data_setup.create_dataloaders(train_dir=train_dir,\n",
        "                                                                               test_dir=test_dir,\n",
        "                                                                               transform=manual_transforms, # resize, convert images to between 0 & 1 and normalize them\n",
        "                                                                               batch_size=32) # set mini-batch size to 32\n",
        "\n",
        "train_dataloader, test_dataloader, class_names"
      ],
      "metadata": {
        "id": "iBc114Thoqxt"
      },
      "execution_count": null,
      "outputs": []
    }
  ]
}